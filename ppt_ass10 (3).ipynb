{
 "cells": [
  {
   "cell_type": "code",
   "execution_count": 1,
   "id": "9237dc56-948b-4f5c-8652-10d19e898226",
   "metadata": {},
   "outputs": [
    {
     "data": {
      "text/plain": [
       "'\\n\\n💡 **Question 1**\\n\\nGiven an integer\\xa0`n`, return\\xa0*`true`\\xa0if it is a power of three. Otherwise, return\\xa0`false`*.\\n\\nAn integer\\xa0`n`\\xa0is a power of three, if there exists an integer\\xa0`x`\\xa0such that\\xa0`n == 3x`.\\n'"
      ]
     },
     "execution_count": 1,
     "metadata": {},
     "output_type": "execute_result"
    }
   ],
   "source": [
    "\"\"\"\n",
    "\n",
    "💡 **Question 1**\n",
    "\n",
    "Given an integer `n`, return *`true` if it is a power of three. Otherwise, return `false`*.\n",
    "\n",
    "An integer `n` is a power of three, if there exists an integer `x` such that `n == 3x`.\n",
    "\"\"\""
   ]
  },
  {
   "cell_type": "code",
   "execution_count": 2,
   "id": "c17588f7-7760-452f-96dd-dda40e4bfd13",
   "metadata": {},
   "outputs": [],
   "source": [
    "def isPowerOfThree(n):\n",
    "    if n <= 0:\n",
    "        return False\n",
    "    while n % 3 == 0:\n",
    "        n /= 3\n",
    "    return n == 1\n"
   ]
  },
  {
   "cell_type": "code",
   "execution_count": 3,
   "id": "c7c816bc-c03f-4dcd-b0d9-846808ae459b",
   "metadata": {},
   "outputs": [
    {
     "name": "stdout",
     "output_type": "stream",
     "text": [
      "True\n"
     ]
    }
   ],
   "source": [
    "n = 27\n",
    "print(isPowerOfThree(n))  # Output: True\n"
   ]
  },
  {
   "cell_type": "code",
   "execution_count": 4,
   "id": "4fe6ca63-cd89-4444-b72f-598672632c4e",
   "metadata": {},
   "outputs": [
    {
     "data": {
      "text/plain": [
       "'\\n\\n💡 **Question 2**\\n\\nYou have a list\\xa0`arr`\\xa0of all integers in the range\\xa0`[1, n]`\\xa0sorted in a strictly increasing order. Apply the following algorithm on\\xa0`arr`:\\n\\n- Starting from left to right, remove the first number and every other number afterward until you reach the end of the list.\\n- Repeat the previous step again, but this time from right to left, remove the rightmost number and every other number from the remaining numbers.\\n- Keep repeating the steps again, alternating left to right and right to left, until a single number remains.\\n\\nGiven the integer\\xa0`n`, return\\xa0*the last number that remains in*\\xa0`arr`.\\n\\n'"
      ]
     },
     "execution_count": 4,
     "metadata": {},
     "output_type": "execute_result"
    }
   ],
   "source": [
    "\"\"\"\n",
    "\n",
    "💡 **Question 2**\n",
    "\n",
    "You have a list `arr` of all integers in the range `[1, n]` sorted in a strictly increasing order. Apply the following algorithm on `arr`:\n",
    "\n",
    "- Starting from left to right, remove the first number and every other number afterward until you reach the end of the list.\n",
    "- Repeat the previous step again, but this time from right to left, remove the rightmost number and every other number from the remaining numbers.\n",
    "- Keep repeating the steps again, alternating left to right and right to left, until a single number remains.\n",
    "\n",
    "Given the integer `n`, return *the last number that remains in* `arr`.\n",
    "\n",
    "\"\"\""
   ]
  },
  {
   "cell_type": "code",
   "execution_count": 5,
   "id": "ee0bf826-f1b8-4b9d-af2f-54b0526a5569",
   "metadata": {},
   "outputs": [
    {
     "name": "stdout",
     "output_type": "stream",
     "text": [
      "6\n"
     ]
    }
   ],
   "source": [
    "def lastRemaining(n):\n",
    "    left_to_right = True\n",
    "    remaining = n\n",
    "    step = 1\n",
    "    head = 1\n",
    "\n",
    "    while remaining > 1:\n",
    "        if left_to_right or remaining % 2 == 1:\n",
    "            head += step\n",
    "        remaining //= 2\n",
    "        step *= 2\n",
    "        left_to_right = not left_to_right\n",
    "\n",
    "    return head\n",
    "\n",
    "# Test the function\n",
    "n = 9\n",
    "print(lastRemaining(n))  # Output: 6\n"
   ]
  },
  {
   "cell_type": "code",
   "execution_count": 6,
   "id": "8cd2980f-17c2-458a-b019-58fbf39ef389",
   "metadata": {},
   "outputs": [
    {
     "data": {
      "text/plain": [
       "'\\n\\n💡 **Question 3**\\n\\n****Given a set represented as a string, write a recursive code to print all subsets of it. The subsets can be printed in any order.\\n\\n**Example 1:**\\n\\nInput :\\xa0\\xa0set = “abc”\\n\\nOutput :\\xa0{ “”, “a”, “b”, “c”, “ab”, “ac”, “bc”, “abc”}\\n\\n**Example 2:**\\n\\nInput :\\xa0set = “abcd”\\n\\nOutput :\\xa0{ “”, “a” ,”ab” ,”abc” ,”abcd”, “abd” ,”ac” ,”acd”, “ad” ,”b”, “bc” ,”bcd” ,”bd” ,”c” ,”cd” ,”d” }\\n\\n'"
      ]
     },
     "execution_count": 6,
     "metadata": {},
     "output_type": "execute_result"
    }
   ],
   "source": [
    "\"\"\"\n",
    "\n",
    "💡 **Question 3**\n",
    "\n",
    "****Given a set represented as a string, write a recursive code to print all subsets of it. The subsets can be printed in any order.\n",
    "\n",
    "**Example 1:**\n",
    "\n",
    "Input :  set = “abc”\n",
    "\n",
    "Output : { “”, “a”, “b”, “c”, “ab”, “ac”, “bc”, “abc”}\n",
    "\n",
    "**Example 2:**\n",
    "\n",
    "Input : set = “abcd”\n",
    "\n",
    "Output : { “”, “a” ,”ab” ,”abc” ,”abcd”, “abd” ,”ac” ,”acd”, “ad” ,”b”, “bc” ,”bcd” ,”bd” ,”c” ,”cd” ,”d” }\n",
    "\n",
    "\"\"\""
   ]
  },
  {
   "cell_type": "code",
   "execution_count": 7,
   "id": "c0ca8402-65d5-43ec-ada7-a83260638064",
   "metadata": {},
   "outputs": [
    {
     "name": "stdout",
     "output_type": "stream",
     "text": [
      "abc\n",
      "ab\n",
      "ac\n",
      "a\n",
      "bc\n",
      "b\n",
      "c\n",
      "\n"
     ]
    }
   ],
   "source": [
    "def printSubsets(set_str, subset=\"\"):\n",
    "    if len(set_str) == 0:\n",
    "        print(subset)\n",
    "        return\n",
    "\n",
    "    # Include the current character in the subset\n",
    "    printSubsets(set_str[1:], subset + set_str[0])\n",
    "\n",
    "    # Exclude the current character from the subset\n",
    "    printSubsets(set_str[1:], subset)\n",
    "\n",
    "\n",
    "# Test the function\n",
    "set_str = \"abc\"\n",
    "printSubsets(set_str)\n"
   ]
  },
  {
   "cell_type": "code",
   "execution_count": 8,
   "id": "54807039-8698-42dc-8876-d6f1cf4db72b",
   "metadata": {},
   "outputs": [
    {
     "data": {
      "text/plain": [
       "'\\n\\n💡 **Question 4**\\n\\nGiven a string calculate length of the string using recursion.\\n\\n'"
      ]
     },
     "execution_count": 8,
     "metadata": {},
     "output_type": "execute_result"
    }
   ],
   "source": [
    "\"\"\"\n",
    "\n",
    "💡 **Question 4**\n",
    "\n",
    "Given a string calculate length of the string using recursion.\n",
    "\n",
    "\"\"\""
   ]
  },
  {
   "cell_type": "code",
   "execution_count": 9,
   "id": "08c18f26-287c-43ef-9924-c5b2ef8d2af3",
   "metadata": {},
   "outputs": [
    {
     "name": "stdout",
     "output_type": "stream",
     "text": [
      "5\n"
     ]
    }
   ],
   "source": [
    "def stringLength(s):\n",
    "    if s == \"\":\n",
    "        return 0\n",
    "    return 1 + stringLength(s[1:])\n",
    "\n",
    "\n",
    "# Test the function\n",
    "s = \"abcab\"\n",
    "print(stringLength(s))  # Output: 6\n"
   ]
  },
  {
   "cell_type": "code",
   "execution_count": 10,
   "id": "af98e363-06cd-4ac7-bb06-6938d62c8e11",
   "metadata": {},
   "outputs": [
    {
     "data": {
      "text/plain": [
       "'\\n\\n💡 **Question 5**\\n\\nWe are given a string S, we need to find count of all contiguous substrings starting and ending with same character.\\n\\n'"
      ]
     },
     "execution_count": 10,
     "metadata": {},
     "output_type": "execute_result"
    }
   ],
   "source": [
    "\"\"\"\n",
    "\n",
    "💡 **Question 5**\n",
    "\n",
    "We are given a string S, we need to find count of all contiguous substrings starting and ending with same character.\n",
    "\n",
    "\"\"\""
   ]
  },
  {
   "cell_type": "code",
   "execution_count": 11,
   "id": "8537afdc-bc01-4b95-bc6f-e7272411491c",
   "metadata": {},
   "outputs": [
    {
     "name": "stdout",
     "output_type": "stream",
     "text": [
      "0\n"
     ]
    }
   ],
   "source": [
    "def countContiguousSubstrings(S):\n",
    "    count = 0\n",
    "    for i in range(len(S)):\n",
    "        count += i + 1 if S[i] == S[i-1] else 0\n",
    "    return count\n",
    "\n",
    "# Test the function\n",
    "S = \"abcab\"\n",
    "print(countContiguousSubstrings(S))  # Output: 7\n"
   ]
  },
  {
   "cell_type": "code",
   "execution_count": 12,
   "id": "b2e11bde-f307-46e7-a469-50d8eb8165bb",
   "metadata": {},
   "outputs": [
    {
     "data": {
      "text/plain": [
       "'\\n\\n💡 **Question 6**\\n\\nThe\\xa0[tower of Hanoi](https://en.wikipedia.org/wiki/Tower_of_Hanoi)\\xa0is a famous puzzle where we have three rods and\\xa0**N**\\xa0disks. The objective of the puzzle is to move the entire stack to another rod. You are given the number of discs\\xa0**N**. Initially, these discs are in the rod 1. You need to print all the steps of discs movement so that all the discs reach the 3rd\\xa0rod. Also, you need to find the total moves.**Note:**\\xa0The discs are arranged such that the\\xa0**top disc is numbered 1**\\xa0and the\\xa0**bottom-most disc is numbered N**. Also, all the discs have\\xa0**different sizes**\\xa0and a bigger disc\\xa0**cannot**\\xa0be put on the top of a smaller disc. Refer the provided link to get a better clarity about the puzzle.\\n\\n'"
      ]
     },
     "execution_count": 12,
     "metadata": {},
     "output_type": "execute_result"
    }
   ],
   "source": [
    "\"\"\"\n",
    "\n",
    "💡 **Question 6**\n",
    "\n",
    "The [tower of Hanoi](https://en.wikipedia.org/wiki/Tower_of_Hanoi) is a famous puzzle where we have three rods and **N** disks. The objective of the puzzle is to move the entire stack to another rod. You are given the number of discs **N**. Initially, these discs are in the rod 1. You need to print all the steps of discs movement so that all the discs reach the 3rd rod. Also, you need to find the total moves.**Note:** The discs are arranged such that the **top disc is numbered 1** and the **bottom-most disc is numbered N**. Also, all the discs have **different sizes** and a bigger disc **cannot** be put on the top of a smaller disc. Refer the provided link to get a better clarity about the puzzle.\n",
    "\n",
    "\"\"\""
   ]
  },
  {
   "cell_type": "code",
   "execution_count": 13,
   "id": "4ad63c09-e90b-43e4-9bce-6f439fb34656",
   "metadata": {},
   "outputs": [
    {
     "name": "stdout",
     "output_type": "stream",
     "text": [
      "Move disk 1 from A to C\n",
      "Move disk 2 from A to B\n",
      "Move disk 1 from C to B\n",
      "Move disk 3 from A to C\n",
      "Move disk 1 from B to A\n",
      "Move disk 2 from B to C\n",
      "Move disk 1 from A to C\n",
      "Total moves: 7\n"
     ]
    }
   ],
   "source": [
    "def towerOfHanoi(N, source, destination, auxiliary):\n",
    "    if N == 1:\n",
    "        print(f\"Move disk 1 from {source} to {destination}\")\n",
    "        return 1\n",
    "\n",
    "    count = 0\n",
    "\n",
    "    count += towerOfHanoi(N - 1, source, auxiliary, destination)\n",
    "    print(f\"Move disk {N} from {source} to {destination}\")\n",
    "    count += 1\n",
    "    count += towerOfHanoi(N - 1, auxiliary, destination, source)\n",
    "\n",
    "    return count\n",
    "\n",
    "# Test the function\n",
    "N = 3\n",
    "source = \"A\"\n",
    "destination = \"C\"\n",
    "auxiliary = \"B\"\n",
    "\n",
    "total_moves = towerOfHanoi(N, source, destination, auxiliary)\n",
    "print(f\"Total moves: {total_moves}\")\n"
   ]
  },
  {
   "cell_type": "code",
   "execution_count": 14,
   "id": "cbb9ec1b-4b99-4e2b-bb81-75af7f19c37d",
   "metadata": {},
   "outputs": [
    {
     "data": {
      "text/plain": [
       "'\\n\\n💡 **Question 7**\\n\\nGiven a string\\xa0**str**, the task is to print all the permutations of\\xa0**str**. A\\xa0**permutation**\\xa0is an arrangement of all or part of a set of objects, with regard to the order of the arrangement. For instance, the words ‘bat’ and ‘tab’ represents two distinct permutation (or arrangements) of a similar three letter word.\\n\\n'"
      ]
     },
     "execution_count": 14,
     "metadata": {},
     "output_type": "execute_result"
    }
   ],
   "source": [
    "\"\"\"\n",
    "\n",
    "💡 **Question 7**\n",
    "\n",
    "Given a string **str**, the task is to print all the permutations of **str**. A **permutation** is an arrangement of all or part of a set of objects, with regard to the order of the arrangement. For instance, the words ‘bat’ and ‘tab’ represents two distinct permutation (or arrangements) of a similar three letter word.\n",
    "\n",
    "\"\"\""
   ]
  },
  {
   "cell_type": "code",
   "execution_count": 15,
   "id": "745cb55b-86cf-4eb4-a15e-b4d3fa0ac984",
   "metadata": {},
   "outputs": [
    {
     "name": "stdout",
     "output_type": "stream",
     "text": [
      "abc\n",
      "acb\n",
      "bac\n",
      "bca\n",
      "cba\n",
      "cab\n"
     ]
    }
   ],
   "source": [
    "def permute(s, l, r):\n",
    "    if l == r:\n",
    "        print(\"\".join(s))\n",
    "    else:\n",
    "        for i in range(l, r + 1):\n",
    "            s[l], s[i] = s[i], s[l]\n",
    "            permute(s, l + 1, r)\n",
    "            s[l], s[i] = s[i], s[l]  # backtrack\n",
    "\n",
    "\n",
    "# Test the function\n",
    "str = \"abc\"\n",
    "n = len(str)\n",
    "permute(list(str), 0, n - 1)\n"
   ]
  },
  {
   "cell_type": "code",
   "execution_count": 19,
   "id": "a75a580b-fb93-403e-a00a-3932d5649128",
   "metadata": {},
   "outputs": [
    {
     "data": {
      "text/plain": [
       "'\\n\\n💡 **Question 8**\\n\\nGiven a string, count total number of consonants in it. A consonant is an English alphabet character that is not vowel (a, e, i, o and u). Examples of constants are b, c, d, f, and g.\\n'"
      ]
     },
     "execution_count": 19,
     "metadata": {},
     "output_type": "execute_result"
    }
   ],
   "source": [
    "\"\"\"\n",
    "\n",
    "💡 **Question 8**\n",
    "\n",
    "Given a string, count total number of consonants in it. A consonant is an English alphabet character that is not vowel (a, e, i, o and u). Examples of constants are b, c, d, f, and g.\n",
    "\"\"\""
   ]
  },
  {
   "cell_type": "code",
   "execution_count": 20,
   "id": "cf6ff3f0-550d-410b-acc9-bf9304eb7eda",
   "metadata": {},
   "outputs": [
    {
     "name": "stdout",
     "output_type": "stream",
     "text": [
      "3\n"
     ]
    }
   ],
   "source": [
    "def count_consonants(string):\n",
    "    consonants = \"bcdfghjklmnpqrstvwxyzBCDFGHJKLMNPQRSTVWXYZ\"\n",
    "    count = 0\n",
    "    for char in string:\n",
    "        if char in consonants:\n",
    "            count += 1\n",
    "    return count\n",
    "\n",
    "\n",
    "# Test the function\n",
    "string = \"abc de\"\n",
    "result = count_consonants(string)\n",
    "print(result)\n"
   ]
  },
  {
   "cell_type": "code",
   "execution_count": null,
   "id": "7e4aa005-5547-449d-adb2-d2b005c870b3",
   "metadata": {},
   "outputs": [],
   "source": []
  }
 ],
 "metadata": {
  "kernelspec": {
   "display_name": "Python 3 (ipykernel)",
   "language": "python",
   "name": "python3"
  },
  "language_info": {
   "codemirror_mode": {
    "name": "ipython",
    "version": 3
   },
   "file_extension": ".py",
   "mimetype": "text/x-python",
   "name": "python",
   "nbconvert_exporter": "python",
   "pygments_lexer": "ipython3",
   "version": "3.10.6"
  }
 },
 "nbformat": 4,
 "nbformat_minor": 5
}
